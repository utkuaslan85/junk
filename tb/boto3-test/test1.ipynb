{
 "metadata": {
  "language_info": {
   "codemirror_mode": {
    "name": "ipython",
    "version": 3
   },
   "file_extension": ".py",
   "mimetype": "text/x-python",
   "name": "python",
   "nbconvert_exporter": "python",
   "pygments_lexer": "ipython3",
   "version": "3.8.5"
  },
  "orig_nbformat": 2,
  "kernelspec": {
   "name": "python385jvsc74a57bd0916dbcbb3f70747c44a77c7bcd40155683ae19c65e1c03b4aa3499c5328201f1",
   "display_name": "Python 3.8.5 64-bit"
  },
  "metadata": {
   "interpreter": {
    "hash": "916dbcbb3f70747c44a77c7bcd40155683ae19c65e1c03b4aa3499c5328201f1"
   }
  }
 },
 "nbformat": 4,
 "nbformat_minor": 2,
 "cells": [
  {
   "cell_type": "code",
   "execution_count": 23,
   "metadata": {},
   "outputs": [],
   "source": [
    "import os\n",
    "import sys\n",
    "import json\n",
    "import boto3\n",
    "import pandas as pd"
   ]
  },
  {
   "cell_type": "code",
   "execution_count": 3,
   "metadata": {},
   "outputs": [],
   "source": [
    "with open('credentials.json', 'r') as fd:\n",
    "    credentials = json.loads(fd.read())"
   ]
  },
  {
   "cell_type": "code",
   "execution_count": 4,
   "metadata": {},
   "outputs": [],
   "source": [
    "conn = boto3.client('s3',\n",
    "                    endpoint_url=credentials['endpoint_url'], \\\n",
    "                    aws_access_key_id=credentials['access_key'], \\\n",
    "                    aws_secret_access_key=credentials['secret_key'])"
   ]
  },
  {
   "cell_type": "code",
   "execution_count": 7,
   "metadata": {},
   "outputs": [],
   "source": [
    "res = boto3.resource('s3',\n",
    "                    endpoint_url=credentials['endpoint_url'], \\\n",
    "                    aws_access_key_id=credentials['access_key'], \\\n",
    "                    aws_secret_access_key=credentials['secret_key'])"
   ]
  },
  {
   "cell_type": "code",
   "execution_count": 10,
   "metadata": {},
   "outputs": [],
   "source": [
    "bucket = res.Bucket('testbucket')"
   ]
  },
  {
   "cell_type": "code",
   "execution_count": 5,
   "metadata": {},
   "outputs": [
    {
     "output_type": "stream",
     "name": "stdout",
     "text": [
      "2021-06-01 14:22:08.088000+00:00 testbucket\n"
     ]
    }
   ],
   "source": [
    "response = conn.list_buckets()\n",
    "for item in response['Buckets']:\n",
    "    print(item['CreationDate'], item['Name'])"
   ]
  },
  {
   "cell_type": "code",
   "execution_count": 12,
   "metadata": {},
   "outputs": [
    {
     "output_type": "execute_result",
     "data": {
      "text/plain": [
       "{'ResponseMetadata': {'RequestId': 'tx000000000000000007c90-0060b8dbb9-c1f43-s3-store',\n",
       "  'HostId': '',\n",
       "  'HTTPStatusCode': 200,\n",
       "  'HTTPHeaders': {'content-length': '0',\n",
       "   'etag': '\"68ce914bb8f8bc27ff666eb8b510e640\"',\n",
       "   'accept-ranges': 'bytes',\n",
       "   'rgwx-mtime': '1622727609.914830072',\n",
       "   'x-amz-request-id': 'tx000000000000000007c90-0060b8dbb9-c1f43-s3-store',\n",
       "   'date': 'Thu, 03 Jun 2021 13:40:09 GMT',\n",
       "   'connection': 'Keep-Alive'},\n",
       "  'RetryAttempts': 0},\n",
       " 'ETag': '\"68ce914bb8f8bc27ff666eb8b510e640\"'}"
      ]
     },
     "metadata": {},
     "execution_count": 12
    }
   ],
   "source": [
    "object = res.Object('testbucket', 'deneme/Well2.csv')\n",
    "\n",
    "object.put(Body=open('WELL-00001_20170201020207.csv', 'rb'))"
   ]
  },
  {
   "cell_type": "code",
   "execution_count": 13,
   "metadata": {},
   "outputs": [],
   "source": [
    "for obj in bucket.objects.all():\n",
    "    key = obj.key\n",
    "    body = obj.get()['Body'].read()"
   ]
  },
  {
   "cell_type": "code",
   "execution_count": 16,
   "metadata": {},
   "outputs": [
    {
     "output_type": "stream",
     "name": "stdout",
     "text": [
      "[s3.ObjectSummary(bucket_name='testbucket', key='deneme/Well1.csv'), s3.ObjectSummary(bucket_name='testbucket', key='deneme/Well2.csv')]\n"
     ]
    }
   ],
   "source": [
    "objects = bucket.objects.all()\n",
    "print(list(objects))"
   ]
  },
  {
   "cell_type": "code",
   "execution_count": 24,
   "metadata": {},
   "outputs": [],
   "source": [
    "obj = conn.get_object(Bucket='testbucket', Key='deneme/Well1.csv')\n",
    "df = pd.read_csv(obj['Body'])"
   ]
  },
  {
   "cell_type": "code",
   "execution_count": null,
   "metadata": {},
   "outputs": [],
   "source": []
  }
 ]
}